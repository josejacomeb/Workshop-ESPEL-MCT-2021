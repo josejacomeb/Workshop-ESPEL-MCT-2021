{
 "cells": [
  {
   "cell_type": "markdown",
   "metadata": {},
   "source": [
    "# Elementos que contiene el Kit de Herramientas OpenVINO\n",
    "El Kit de Herramientas OpenVINO viene cargado de un montón de herramientas útiles para el desarrollo de aplicación de Inteligencia Artificial para dispositivos de frontera, dichas herramientas son compatibles con las otras herramientas de software de [Intel](https://software.intel.com/content/www/us/en/develop/home.html). Entre las más destacadas, tenemos: \n",
    "\n",
    "## Optimizador de Modelos de Aprendizaje Profundo\n",
    "\n",
    "![Deep Learning Model Optimizer](https://docs.openvinotoolkit.org/latest/workflow_steps.png)\n",
    "<div align=\"center\"><b>Fig 1.</b> Flujo de trabajo típico de desarrollo de un modelo de Deep Learning [1]</div>\n",
    "\n",
    "En Inglés(Deep Learning Model Optimizer) es una aplicación de línea de comandos, compatible con varias plataformas para importar, convertir, preparar y optimizar modelos para ejecutarlos en el Motor de Inferencia de Intel. Es compatible con varios formatos populares de modelos de Deep Learning, como pueden ser: \n",
    "- Caffe\n",
    "- TensorFlow\n",
    "- MXNet\n",
    "- Kaldi\n",
    "- ONNX\n",
    "\n",
    "## Motor de Inferencia de Aprendizaje Profundo\n",
    "En Inglés Intermediate Representation and Opsets, corresponde a una API unificada, que permite desarrollar una inferencia de alto rendimiento en los dispositivos soportados por la Distribución de OpenVINO, únicamente puede ejecutar inferencia sobre modelos convertidos y compatibles con el motor de inferencia de Intel\n",
    "\n",
    "## Banco de Pruebas de Deep Learning\n",
    "El Deep Learning Workbench es un ambiente de pruebas basado en la web que permite el uso de varios componentes del ToolKit de OpenVINO de manera más fácil e intuitiva\n",
    "\n",
    "## Herramienta de Optimización Post Entrenamiento\n",
    "La Post-training optimization tool es una útil herramienta para calibrar un modelo y luego ejecutarlo en precisiones como la INT8\n",
    "\n",
    "## Open Model Zoo\n",
    "Los Intel's Pretrained Models (Open Model Zoo) son una importante fuente de datos de aprendizaje y desarrollo que provee Intel. Contiene una serie de ejemplos de aplicación, además de modelos pre-entrenados compatibles con el Motor de Inferencia de Intel\n",
    "\n",
    "## Otras herramientas Interesantes\n",
    "- Herramienta de Benchmark: Útil para poder obtener métricas de la red\n",
    "- Cross Check Tool: Herramienta para comparar la precisión y el rendimiento de dos sucesivos modelos que han sido optimizados\n",
    "- Compile tool: En el Lenguaje de programación C++, sirve para compilar la inferencia por un modelo específico y exportarlo a un archivo binario.\n",
    "\n",
    "## Referencia\n",
    "-[1] Intel. (2021, Agosto 31). OpenVINO™ Toolkit Overview. Intel. [https://docs.openvinotoolkit.org/latest/index.html#openvino_toolkit_components](https://docs.openvinotoolkit.org/latest/index.html#openvino_toolkit_components)"
   ]
  }
 ],
 "metadata": {
  "kernelspec": {
   "display_name": "Python 3",
   "language": "python",
   "name": "python3"
  },
  "language_info": {
   "codemirror_mode": {
    "name": "ipython",
    "version": 3
   },
   "file_extension": ".py",
   "mimetype": "text/x-python",
   "name": "python",
   "nbconvert_exporter": "python",
   "pygments_lexer": "ipython3",
   "version": "3.7.6"
  }
 },
 "nbformat": 4,
 "nbformat_minor": 4
}

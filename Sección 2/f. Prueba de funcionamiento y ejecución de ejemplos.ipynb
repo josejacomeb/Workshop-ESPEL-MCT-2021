{
 "cells": [
  {
   "cell_type": "markdown",
   "metadata": {},
   "source": [
    "# Prueba de funcionamiento y ejecución de ejemplos"
   ]
  },
  {
   "cell_type": "markdown",
   "metadata": {},
   "source": [
    "## Prerrequisito\n",
    "Si se optó por instalar OpenVINO desde el instalador de Intel, es necesario primero configurar las variables de Entorno de OpenVINO, en este caso para Windows es el siguiente código que se debe copiar y pegar en el CMD de Windows. En caso de haber instalado OpenVINO por PyPi no es necesario hacer este paso.\n",
    "\n",
    "**Windows**\n",
    "```bash\n",
    "\"C:\\Program Files (x86)\\Intel\\openvino_2021\\bin\\setupvars.bat\"\n",
    "```\n",
    "\n",
    "**Linux**\n",
    "\n",
    "```bash\n",
    "source /opt/intel/openvino_2021/bin/setupvars.sh\n",
    "```\n",
    "\n",
    "Una vez ejecutado el código, se mostrará un mensaje similar al siguiente\n",
    "![OpenVINO Variables](Imágenes/openvino_variables.png)\n",
    "<div align=\"center\"><b>Fig 1.</b> Activación de las variables del Sistema de OpenVINO </div>\n",
    "\n",
    "## Prueba de funcionamiento de las librerías\n",
    "Para probar que las librerías están disponibles en nuestro entorno, es necesario solamente ejecutar el presente código usando el intérprete de Python(en Linux la palabra `python` debería ser reemplazar por `python3`). Si es que no se muestra ningún error ni salida de consola, la instalación ha sido exitosa\n",
    "```bash\n",
    "python -c \"from openvino.inference_engine import IECore\" \n",
    "```\n",
    "\n",
    "## Ejecutar una prueba de Inferencia con el Ejemplo Demo Security Barrier\n",
    "Para hacer una demostración más práctica, es deseable correr un ejemplo de funcionamiento, en este caso se utiliza el ejemplo de [Demostración de una Barrera de Seguridad Inteligente](https://docs.openvinotoolkit.org/latest/openvino_docs_get_started_get_started_linux.html#use_the_demo_scripts_to_learn_the_workflow), más información se puede encontrar en el Link anterior.\n",
    "\n",
    "### Windows\n",
    "Nos cambiamos de directorio a la siguiente ubicación.\n",
    "```bash\n",
    "cd  C:\\Program Files (x86)\\Intel\\openvino_2021\\deployment_tools\\\n",
    "```\n",
    "Ejecutamos el siguiente código para ejecutar el ejemplo:\n",
    "\n",
    "```bash\n",
    "demo_security_barrier_camera.bat \n",
    "```\n",
    "El script ingresado iniciará la descarga de los archivos necesarios y ejecutará el programa. La entrada de datos de cmd se pueden ver mejor en la siguiente imágen\n",
    " \t![OpenVINO Demo](Imágenes/openvino_windows_cmd.png)\n",
    "    <div align=\"center\"><b>Fig 2.</b> Uso del CMD de Windows para probar los archivos de ejemplo de OpenVINO </div>\n",
    "\n",
    "\n",
    "### Linux\n",
    "Nos cambiamos de directorio a la siguiente ubicación.\n",
    "```bash\n",
    "cd /opt/intel/openvino_2021/deployment_tools/demo\n",
    "```\n",
    "Ejecutamos el siguiente código para ejecutar el ejemplo:\n",
    "\n",
    "```bash\n",
    "./demo_security_barrier_camera.sh -d GPU\n",
    "```\n",
    "Una vez ingresada la contraseña del usuario, el Script descargará las dependencias necesarias y ejecutara el programa.\n",
    " \t![OpenVINO Demo](Imágenes/openvino_demo.png)\n",
    "    <div align=\"center\"><b>Fig 3.</b> Demo del Programa Security Barrier de la Distribución OpenVINO  </div>\n",
    "    \n",
    "Si es que hubo algún problema con la ejecución de esta comprobación, se debe iniciar nuevamente con los pasos de instalación, además se sugiere abrir un post en esta aula virtual para poder solucionar el inconveniente.\n",
    "    \n",
    "## Referencias\n",
    "- [1] Intel. (2021, Agosto 31). Get Started with OpenVINO™ Toolkit on Linux*. Intel. [https://docs.openvinotoolkit.org/latest/openvino_docs_get_started_get_started_linux.html#use_the_demo_scripts_to_learn_the_workflow](https://docs.openvinotoolkit.org/latest/openvino_docs_get_started_get_started_linux.html#use_the_demo_scripts_to_learn_the_workflow)"
   ]
  }
 ],
 "metadata": {
  "kernelspec": {
   "display_name": "Python 3",
   "language": "python",
   "name": "python3"
  },
  "language_info": {
   "codemirror_mode": {
    "name": "ipython",
    "version": 3
   },
   "file_extension": ".py",
   "mimetype": "text/x-python",
   "name": "python",
   "nbconvert_exporter": "python",
   "pygments_lexer": "ipython3",
   "version": "3.7.6"
  }
 },
 "nbformat": 4,
 "nbformat_minor": 4
}

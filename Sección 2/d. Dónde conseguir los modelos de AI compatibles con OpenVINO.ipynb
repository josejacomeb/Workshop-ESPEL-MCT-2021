{
 "cells": [
  {
   "cell_type": "markdown",
   "metadata": {},
   "source": [
    "# ¿Dónde conseguir los modelos de AI compatibles con OpenVINO?\n",
    "Gracias al apoyo de Intel, se han liberado varios modelos de prueba para mejorar el aprendizaje de este toolkit, están convenientemente distribuidos en las siguientes tipos de modelo de Deep Learning:\n",
    "- Modelos de detección de objetos\n",
    "- Modelos de reconocimiento de objetos\n",
    "- Modelos de reidentificación\n",
    "- Modelos de segmentación semántica.\n",
    "- Modelos de segmentación de instancias\n",
    "- Modelos de estimación de pose humana\n",
    "- Procesamiento de imágenes\n",
    "- Detección de texto\n",
    "- Reconocimiento de texto\n",
    "- Modelos de reconocimiento de acción \n",
    "\n",
    "Tales modelos se pueden encontrar están divididos en dos grupos:\n",
    "\n",
    "## Modelos de Intel\n",
    "Son modelos públicos que ya han sido convertidos al motor de inferencia de Intel, y puede ser descargados a través de la aplicación adjunta del Toolkit que es el [Model Downloader](https://docs.openvinotoolkit.org/2021.4/omz_models_group_intel.html). Para más información sobre estos modelos, referirse al siguiente [link](https://docs.openvinotoolkit.org/2021.4/omz_models_group_intel.html)\n",
    "![Ejemplo Modelo Deteccion de Acciones](https://docs.openvinotoolkit.org/2021.4/person-detection-action-recognition-0005.png)\n",
    "<div align=\"center\"><b>Fig 1.</b> Ejemplo de un modelo pre-entrenado de Intel para Detección de Acciones [1]</div>\n",
    "\n",
    "## Modelos públicos\n",
    "Son modelos que pueden ser usados para para aprendizaje y demostraciones. Dichos modelos han sido desarrollados en varias librerías de Machine Learning, y como ejercicio, es necesario usar el Optimizador de Modelos para convertir dichos modelos a la Representación Intermedia de Intel, para más referencia de esos modelos, se presenta el siguiente [link](https://docs.openvinotoolkit.org/2021.4/omz_models_group_public.html)\n",
    "\n",
    "![Ejemplo Modelo Deteccion de Pose en 3D](https://docs.openvinotoolkit.org/2021.4/human-pose-estimation-3d-0001.jpg)\n",
    "<div align=\"center\"><b>Fig 2.</b> Ejemplo de un modelo público pre-entrenado para la detección de Pose en 3D [1]</div>\n",
    "\n",
    "## Referencias\n",
    "- [1] Intel. (2021, Agosto 31). Trained Models - OpenVINO™ Toolkit. Intel. [https://docs.openvinotoolkit.org/2021.4/trained_models.html]()"
   ]
  }
 ],
 "metadata": {
  "kernelspec": {
   "display_name": "Python 3",
   "language": "python",
   "name": "python3"
  },
  "language_info": {
   "codemirror_mode": {
    "name": "ipython",
    "version": 3
   },
   "file_extension": ".py",
   "mimetype": "text/x-python",
   "name": "python",
   "nbconvert_exporter": "python",
   "pygments_lexer": "ipython3",
   "version": "3.7.6"
  }
 },
 "nbformat": 4,
 "nbformat_minor": 4
}

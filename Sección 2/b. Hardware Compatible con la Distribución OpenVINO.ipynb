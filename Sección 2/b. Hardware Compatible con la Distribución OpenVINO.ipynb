{
 "cells": [
  {
   "cell_type": "markdown",
   "metadata": {},
   "source": [
    "# Hardware Compatible con la Distribución de OpenVINO\n",
    "La distribución de hardware a nivel global de Intel hace que sea fácil encontrar al menos un dispositivo que contenga hardware Intel, una de las ventajas de computadores de sobremesa y laptops, es que a la par de la CPU, se puede utilizar la GPU integrada para acelerar la inferencia[1]\n",
    "\n",
    "## Intel CPU\n",
    "Los modelos compatibles para la inferencia con Procesadores Intel son los siguientes: \n",
    "- Intel® Xeon® con Intel® Advanced Vector Extensions 2 (Intel® AVX2) (De la 1era a la 3era generación)\n",
    "- Intel® Core™ Processors con Intel® AVX2 (de la 6ta a la 11ava generación)\n",
    "- Intel® Advanced Vector Extensions 512 (Intel® AVX-512) y AVX512_BF16\n",
    "- Intel® Atom® Processors con Intel® Streaming SIMD Extensions (Intel® SSE) \n",
    "\n",
    "## GPU Intel\n",
    "Los siguientes dispositivos son compatibles con la Distribución OpenVINO:\n",
    "\n",
    "- 6ta a la 10ma generación de procesadores Intel Core con Intel® Iris® Plus y gráficos Intel Iris Pro o Intel HD \n",
    "- 11era generación de procesadores Intel Core con arquitectura Xe\n",
    "- Procesador Intel Xeon con Intel® Iris® Plus y gráficos Intel Iris Pro o Intel HD (excluyendo la familia e5 que no incluye gráficos)\n",
    "- Gráficos Intel® Iris® Xe MAX \n",
    "\n",
    "## Visual Process Units(VPU) de Intel\n",
    "\n",
    "![Intel Neural Stick 2](https://dynamoelectronics.com/wp-content/uploads/2020/01/neuronal-computer-compressor.png)\n",
    "<div align=\"center\"><b>Fig 1.</b> VPU Intel Neural Compute Stick V2 [1]</div>\n",
    "\n",
    "Estos aceleradores están destinados a acelerar las tareas de visión, así como de Procesamiento Neuronal, los siguientes dispositivos están soportados a la presente fecha\n",
    "- Intel® Neural Compute Stick 2 impulsado por el Chip Intel® Movidius™ Myriad™ X\n",
    "- Intel® Vision Accelerator Design con Intel® Movidius™ VPUs \n",
    "\n",
    "## Intel Gaussian and Neural Accelerator (GNA)\n",
    "Es un acelerador dedicado de bajo consumo para realizar continua inferencia en dispositivos de frontera, actualmente se distribuye mayormente como un Kit de Desarrollo, los principales modelos son:  \n",
    "- Intel® Speech Enabling Developer Kit\n",
    "- Amazon Alexa* Premium Far-Field Developer Kit\n",
    "- Procesadores Intel® Pentium® Silver N5xxx, J5xxx y Intel® Celeron® N4xxx, J4xxx\n",
    "- Procesadores Intel® Core™ (anteriormente nombrados como Cannon Lake)\n",
    "- 10ma Generación de Procesadores Intel® Core™ (anteriormente nombrados Ice Lake)\n",
    "\n",
    "## Referencias\n",
    "- [1] Intel. (2021, Agosto 31). System Requirements for the Intel Distribution of OpenVINO™ Toolkit. Intel. [https://software.intel.com/content/www/us/en/develop/tools/openvino-toolkit/system-requirements.html](https://software.intel.com/content/www/us/en/develop/tools/openvino-toolkit/system-requirements.html)"
   ]
  }
 ],
 "metadata": {
  "kernelspec": {
   "display_name": "Python 3",
   "language": "python",
   "name": "python3"
  },
  "language_info": {
   "codemirror_mode": {
    "name": "ipython",
    "version": 3
   },
   "file_extension": ".py",
   "mimetype": "text/x-python",
   "name": "python",
   "nbconvert_exporter": "python",
   "pygments_lexer": "ipython3",
   "version": "3.7.6"
  }
 },
 "nbformat": 4,
 "nbformat_minor": 4
}

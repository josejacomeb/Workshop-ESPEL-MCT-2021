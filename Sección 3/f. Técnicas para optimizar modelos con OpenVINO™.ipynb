{
 "cells": [
  {
   "cell_type": "markdown",
   "metadata": {},
   "source": [
    "# Técnicas para optimizar modelos con OpenVINO™\n",
    "\n",
    "Varias técnicas de Optimización de Modelos vienen integradas en la conversión de modelos de OpenVINO, algunas que se pueden mencionar, son las siguientes[1] [2].\n",
    "\n",
    "## Fusion de Operaciones Lineales\n",
    "Algunas capas de un modelo de Deep Learning incluyen ciertas capas que pueden ser fusionadas en una sola capa de *Convolución* o *Fully Connected*, ejemplos como la capa `BatchNormalization` y `ScaleShift` pueden representarse como una secuencia de adición y multiplicación. En el siguiente ejemplo de una Arquitectura *Resnet Inception*, las capas `res_conv_bn` y `res_conv_scale` han sido fusionadas en la capa `res_conv`.\n",
    "\n",
    "![OpenVINO Demo](https://docs.openvinotoolkit.org/2021.4/resnet_269.png)\n",
    "<div align=\"center\"><b>Fig 1.</b> Ejemplo de Fusión de Operaciones lineales en la Capa de Convolución </div>\n",
    "    \n",
    "Cuando se utiliza el optimizador de modelos de OpenVINO, esta operación está activada por defecto, si se requiere la desactivación de la misma, se debe agregar el argumento `--disable_fusing`\n",
    "\n",
    "\n",
    "## Fusion de Convoluciones Agrupadas\n",
    "Es una optimización aplicada a modelos con topologías de Tensorflow. La idea es usar las convoluciones resultado de una salida de tipo `Split`, para luego combinarlas nuevamente utilizando la operación de *`Concat`* en el mismo orden del que fueron separadas. \n",
    "\n",
    "![OpenVINO Demo](https://docs.openvinotoolkit.org/2021.4/groups.png)\n",
    "<div align=\"center\"><b>Fig 1.</b> Ejemplo de Convoluciones agrupadas </div>\n",
    "\n",
    "## Recortando partes del Modelo\n",
    "A cambio de reducir la precisión del modelo, se puede prescindir de ciertas partes de la arquitectura. Esto se puede hacer a través de la línea de comandos del Optimizador de Modelos de OpenVINO. El propósito de recortar capas del modelo se puede resumir en las siguientes situaciones:\n",
    "- El modelo tiene partes de procesamiento previo o posterior que no se pueden traducir a las capas del motor de inferencia existentes.\n",
    "- El modelo tiene una parte de entrenamiento que es conveniente mantener en el modelo, pero no se usa durante la inferencia.\n",
    "- El modelo es demasiado complejo (contiene muchas operaciones no admitidas que no se pueden implementar fácilmente como capas personalizadas), por lo que el modelo completo no se puede convertir de una sola vez.\n",
    "- Ocurrió un problema con la conversión del modelo en el Optimizador de modelos o la inferencia en el Motor de inferencia. Para localizar el problema, limite el alcance de la conversión mediante la búsqueda iterativa de lugares problemáticos en el modelo.\n",
    "- Se aísla una sola capa personalizada o una combinación de capas personalizadas para fines de depuración.\n"
   ]
  },
  {
   "cell_type": "markdown",
   "metadata": {},
   "source": [
    "## Referencias\n",
    "- [1] Intel. (2021, Agosto 31). Model Optimization Techniques  Intel. [https://docs.openvinotoolkit.org/2021.4/openvino_docs_MO_DG_prepare_model_Model_Optimization_Techniques.html](https://docs.openvinotoolkit.org/2021.4/openvino_docs_MO_DG_prepare_model_Model_Optimization_Techniques.html)\n",
    "- [1] Intel. (2021, Agosto 31). Cutting Off Parts of a Model. Intel. [https://docs.openvinotoolkit.org/2021.4/openvino_docs_MO_DG_prepare_model_convert_model_Cutting_Model.html](https://docs.openvinotoolkit.org/2021.4/openvino_docs_MO_DG_prepare_model_convert_model_Cutting_Model.html)\n"
   ]
  }
 ],
 "metadata": {
  "kernelspec": {
   "display_name": "Python 3",
   "language": "python",
   "name": "python3"
  },
  "language_info": {
   "codemirror_mode": {
    "name": "ipython",
    "version": 3
   },
   "file_extension": ".py",
   "mimetype": "text/x-python",
   "name": "python",
   "nbconvert_exporter": "python",
   "pygments_lexer": "ipython3",
   "version": "3.7.6"
  }
 },
 "nbformat": 4,
 "nbformat_minor": 5
}

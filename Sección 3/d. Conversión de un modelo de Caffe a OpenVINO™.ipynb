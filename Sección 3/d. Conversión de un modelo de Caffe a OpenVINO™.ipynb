{
 "cells": [
  {
   "cell_type": "markdown",
   "metadata": {},
   "source": [
    "# Conversión de un modelo de Caffe a OpenVINO™\n",
    "\n",
    "**Ejemplo Práctico**\n",
    "\n",
    "## Pre-requisitos\n",
    "Como siempre, primero se debe activar las variables de entorno de OpenVINO, **ejecutando** la correspondiente celda de código.\n",
    "- *Windows*"
   ]
  },
  {
   "cell_type": "code",
   "execution_count": 9,
   "metadata": {},
   "outputs": [
    {
     "name": "stdout",
     "output_type": "stream",
     "text": [
      "Microsoft Windows [Version 10.0.19043.1165]\r\n",
      "(c) Microsoft Corporation. All rights reserved.\r\n",
      "\r\n",
      "C:\\Users\\josej\\Documents\\Workshop-ESPEL-MCT-2021\\Secci¢n 3>\"C:\\Program Files (x86)\\Intel\\openvino_2021\\bin\\setupvars.bat\"\n",
      "Python 3.8.10\r\n",
      "[setupvars.bat] OpenVINO environment initialized\r\n",
      "\r\n",
      "C:\\Users\\josej\\Documents\\Workshop-ESPEL-MCT-2021\\Secci¢n 3>"
     ]
    }
   ],
   "source": [
    "%%cmd\n",
    "\"C:\\Program Files (x86)\\Intel\\openvino_2021\\bin\\setupvars.bat\""
   ]
  },
  {
   "cell_type": "markdown",
   "metadata": {},
   "source": [
    "- *Linux*"
   ]
  },
  {
   "cell_type": "code",
   "execution_count": 1,
   "metadata": {},
   "outputs": [
    {
     "name": "stdout",
     "output_type": "stream",
     "text": [
      "[setupvars.sh] OpenVINO environment initialized\n"
     ]
    }
   ],
   "source": [
    "%%bash\n",
    "source /opt/intel/openvino_2021/bin/setupvars.sh"
   ]
  },
  {
   "cell_type": "markdown",
   "metadata": {},
   "source": [
    "## Descargar el archivo de Conversión\n",
    "El presente archivo de ejemplo corresponde a un modelo para Detección de Objetos de la arquitectura Single Shot Detectors(SSD) llamado SSD300[1], es capaz de reconocer entre 20 clases diferentes del Dataset Pascal VOC2007. Para este ejemplo, se presenta el uso de la herramienta de descarga de modelos de OpenVINO llamada `model downloader`, dicha herramienta puede descargar modelos pre-entrenados ya convertidos de Intel o modelos públicos para ser convertidos, es un script de Python que necesita el nombre de modelo y a  para continuar con este tutorial, se recomienda **ejecutar** esta celda de código \n",
    "- *Windows*"
   ]
  },
  {
   "cell_type": "code",
   "execution_count": 6,
   "metadata": {},
   "outputs": [
    {
     "name": "stdout",
     "output_type": "stream",
     "text": [
      "Microsoft Windows [Version 10.0.19043.1165]\r\n",
      "(c) Microsoft Corporation. All rights reserved.\r\n",
      "\r\n",
      "C:\\Users\\josej\\Documents\\Workshop-ESPEL-MCT-2021\\Secci¢n 3>SET dir_md=\"C:\\Program Files (x86)\\Intel\\openvino_2021\\deployment_tools\\tools\\model_downloader\\downloader.py\" \n",
      "\r\n",
      "C:\\Users\\josej\\Documents\\Workshop-ESPEL-MCT-2021\\Secci¢n 3>SET nombre_modelo=\"ssd300\"\n",
      "\r\n",
      "C:\\Users\\josej\\Documents\\Workshop-ESPEL-MCT-2021\\Secci¢n 3>python %dir_md%  --name %nombre_modelo%\n",
      "################|| Downloading ssd300 ||################\r\n",
      "\r\n",
      "========== Downloading C:\\Users\\josej\\Documents\\Workshop-ESPEL-MCT-2021\\Sección 3\\public\\ssd300\\ssd300.tar.gz\r\n",
      "... 1%, 1024 KB, 181 KB/s, 5 seconds passed\r\n",
      "... 2%, 2048 KB, 197 KB/s, 10 seconds passed\r\n",
      "... 3%, 3072 KB, 224 KB/s, 13 seconds passed\r\n",
      "... 4%, 4096 KB, 221 KB/s, 18 seconds passed\r\n",
      "... 5%, 5120 KB, 240 KB/s, 21 seconds passed\r\n",
      "... 6%, 6144 KB, 253 KB/s, 24 seconds passed\r\n",
      "... 7%, 7168 KB, 261 KB/s, 27 seconds passed\r\n",
      "... 8%, 8192 KB, 253 KB/s, 32 seconds passed\r\n",
      "... 9%, 9216 KB, 255 KB/s, 36 seconds passed\r\n",
      "... 10%, 10240 KB, 264 KB/s, 38 seconds passed\r\n",
      "... 11%, 11264 KB, 272 KB/s, 41 seconds passed\r\n",
      "... 12%, 12288 KB, 262 KB/s, 46 seconds passed\r\n",
      "... 13%, 13312 KB, 254 KB/s, 52 seconds passed\r\n",
      "... 15%, 14336 KB, 249 KB/s, 57 seconds passed\r\n",
      "... 16%, 15360 KB, 239 KB/s, 64 seconds passed\r\n",
      "... 17%, 16384 KB, 229 KB/s, 71 seconds passed\r\n",
      "... 18%, 17408 KB, 225 KB/s, 77 seconds passed\r\n",
      "... 19%, 18432 KB, 209 KB/s, 88 seconds passed\r\n",
      "... 20%, 19456 KB, 205 KB/s, 94 seconds passed\r\n",
      "... 21%, 20480 KB, 204 KB/s, 100 seconds passed\r\n",
      "... 22%, 21504 KB, 207 KB/s, 103 seconds passed\r\n",
      "... 23%, 22528 KB, 211 KB/s, 106 seconds passed\r\n",
      "... 24%, 23552 KB, 211 KB/s, 111 seconds passed\r\n",
      "... 25%, 24576 KB, 206 KB/s, 119 seconds passed\r\n",
      "... 26%, 25600 KB, 207 KB/s, 123 seconds passed\r\n",
      "... 27%, 26624 KB, 210 KB/s, 126 seconds passed\r\n",
      "... 28%, 27648 KB, 214 KB/s, 128 seconds passed\r\n",
      "... 30%, 28672 KB, 218 KB/s, 131 seconds passed\r\n",
      "... 31%, 29696 KB, 222 KB/s, 133 seconds passed\r\n",
      "... 32%, 30720 KB, 225 KB/s, 136 seconds passed\r\n",
      "... 33%, 31744 KB, 228 KB/s, 138 seconds passed\r\n",
      "... 34%, 32768 KB, 231 KB/s, 141 seconds passed\r\n",
      "... 35%, 33792 KB, 234 KB/s, 144 seconds passed\r\n",
      "... 36%, 34816 KB, 236 KB/s, 147 seconds passed\r\n",
      "... 37%, 35840 KB, 238 KB/s, 150 seconds passed\r\n",
      "... 38%, 36864 KB, 241 KB/s, 152 seconds passed\r\n",
      "... 39%, 37888 KB, 243 KB/s, 155 seconds passed\r\n",
      "... 40%, 38912 KB, 245 KB/s, 158 seconds passed\r\n",
      "... 41%, 39936 KB, 246 KB/s, 161 seconds passed\r\n",
      "... 42%, 40960 KB, 247 KB/s, 165 seconds passed\r\n",
      "... 43%, 41984 KB, 248 KB/s, 169 seconds passed\r\n",
      "... 45%, 43008 KB, 250 KB/s, 171 seconds passed\r\n",
      "... 46%, 44032 KB, 253 KB/s, 173 seconds passed\r\n",
      "... 47%, 45056 KB, 254 KB/s, 176 seconds passed\r\n",
      "... 48%, 46080 KB, 253 KB/s, 181 seconds passed\r\n",
      "... 49%, 47104 KB, 254 KB/s, 185 seconds passed\r\n",
      "... 50%, 48128 KB, 254 KB/s, 189 seconds passed\r\n",
      "... 51%, 49152 KB, 254 KB/s, 192 seconds passed\r\n",
      "... 52%, 50176 KB, 256 KB/s, 196 seconds passed\r\n",
      "... 53%, 51200 KB, 257 KB/s, 199 seconds passed\r\n",
      "... 54%, 52224 KB, 258 KB/s, 202 seconds passed\r\n",
      "... 55%, 53248 KB, 259 KB/s, 205 seconds passed\r\n",
      "... 56%, 54272 KB, 261 KB/s, 207 seconds passed\r\n",
      "... 57%, 55296 KB, 262 KB/s, 210 seconds passed\r\n",
      "... 58%, 56320 KB, 264 KB/s, 213 seconds passed\r\n",
      "... 60%, 57344 KB, 265 KB/s, 216 seconds passed\r\n",
      "... 61%, 58368 KB, 265 KB/s, 219 seconds passed\r\n",
      "... 62%, 59392 KB, 264 KB/s, 224 seconds passed\r\n",
      "... 63%, 60416 KB, 264 KB/s, 228 seconds passed\r\n",
      "... 64%, 61440 KB, 265 KB/s, 231 seconds passed\r\n",
      "... 65%, 62464 KB, 266 KB/s, 234 seconds passed\r\n",
      "... 66%, 63488 KB, 268 KB/s, 236 seconds passed\r\n",
      "... 67%, 64512 KB, 269 KB/s, 239 seconds passed\r\n",
      "... 68%, 65536 KB, 270 KB/s, 242 seconds passed\r\n",
      "... 69%, 66560 KB, 272 KB/s, 244 seconds passed\r\n",
      "... 70%, 67584 KB, 273 KB/s, 246 seconds passed\r\n",
      "... 71%, 68608 KB, 275 KB/s, 249 seconds passed\r\n",
      "... 72%, 69632 KB, 276 KB/s, 252 seconds passed\r\n",
      "... 73%, 70656 KB, 277 KB/s, 254 seconds passed\r\n",
      "... 75%, 71680 KB, 278 KB/s, 256 seconds passed\r\n",
      "... 76%, 72704 KB, 280 KB/s, 259 seconds passed\r\n",
      "... 77%, 73728 KB, 281 KB/s, 262 seconds passed\r\n",
      "... 78%, 74752 KB, 282 KB/s, 264 seconds passed\r\n",
      "... 79%, 75776 KB, 278 KB/s, 271 seconds passed\r\n",
      "... 80%, 76800 KB, 275 KB/s, 278 seconds passed\r\n",
      "... 81%, 77824 KB, 273 KB/s, 284 seconds passed\r\n",
      "... 82%, 78848 KB, 274 KB/s, 287 seconds passed\r\n",
      "... 83%, 79872 KB, 275 KB/s, 289 seconds passed\r\n",
      "... 84%, 80896 KB, 276 KB/s, 292 seconds passed\r\n",
      "... 85%, 81920 KB, 277 KB/s, 294 seconds passed\r\n",
      "... 86%, 82944 KB, 279 KB/s, 297 seconds passed\r\n",
      "... 87%, 83968 KB, 280 KB/s, 299 seconds passed\r\n",
      "... 88%, 84992 KB, 281 KB/s, 301 seconds passed\r\n",
      "... 90%, 86016 KB, 282 KB/s, 304 seconds passed\r\n",
      "... 91%, 87040 KB, 283 KB/s, 306 seconds passed\r\n",
      "... 92%, 88064 KB, 284 KB/s, 309 seconds passed\r\n",
      "... 93%, 89088 KB, 285 KB/s, 312 seconds passed\r\n",
      "... 94%, 90112 KB, 286 KB/s, 314 seconds passed\r\n",
      "... 95%, 91136 KB, 286 KB/s, 317 seconds passed\r\n",
      "... 96%, 92160 KB, 287 KB/s, 321 seconds passed\r\n",
      "... 97%, 93184 KB, 287 KB/s, 324 seconds passed\r\n",
      "... 98%, 94208 KB, 287 KB/s, 328 seconds passed\r\n",
      "... 99%, 95232 KB, 287 KB/s, 331 seconds passed\r\n",
      "... 100%, 95497 KB, 287 KB/s, 332 seconds passed\r\n",
      "\r\n",
      "========== Unpacking C:\\Users\\josej\\Documents\\Workshop-ESPEL-MCT-2021\\Sección 3\\public\\ssd300\\ssd300.tar.gz\r\n",
      "========== Replacing text in C:\\Users\\josej\\Documents\\Workshop-ESPEL-MCT-2021\\Sección 3\\public\\ssd300\\models\\VGGNet\\VOC0712Plus\\SSD_300x300_ft\\deploy.prototxt\r\n",
      "\r\n",
      "\r\n",
      "C:\\Users\\josej\\Documents\\Workshop-ESPEL-MCT-2021\\Secci¢n 3>"
     ]
    }
   ],
   "source": [
    "%%cmd\n",
    "SET dir_md=\"C:\\Program Files (x86)\\Intel\\openvino_2021\\deployment_tools\\tools\\model_downloader\\downloader.py\" \n",
    "SET nombre_modelo=\"ssd300\"\n",
    "python %dir_md% --name %nombre_modelo%\n"
   ]
  },
  {
   "cell_type": "markdown",
   "metadata": {},
   "source": [
    "- *Linux*"
   ]
  },
  {
   "cell_type": "code",
   "execution_count": 2,
   "metadata": {},
   "outputs": [
    {
     "name": "stdout",
     "output_type": "stream",
     "text": [
      "################|| Downloading ssd300 ||################\n",
      "\n",
      "========== Downloading /home/josejacomeb/Documents/Workshop-ESPEL-MCT-2021/Sección 3/public/ssd300/ssd300.tar.gz\n",
      "... 1%, 1024 KB, 259 KB/s, 3 seconds passed\n",
      "... 2%, 2048 KB, 247 KB/s, 8 seconds passed\n",
      "... 3%, 3072 KB, 214 KB/s, 14 seconds passed\n",
      "... 4%, 4096 KB, 217 KB/s, 18 seconds passed\n",
      "... 5%, 5120 KB, 214 KB/s, 23 seconds passed\n",
      "... 6%, 6144 KB, 215 KB/s, 28 seconds passed\n",
      "... 7%, 7168 KB, 216 KB/s, 33 seconds passed\n",
      "... 8%, 8192 KB, 211 KB/s, 38 seconds passed\n",
      "... 9%, 9216 KB, 154 KB/s, 59 seconds passed\n",
      "... 10%, 10240 KB, 134 KB/s, 76 seconds passed\n",
      "... 11%, 11264 KB, 125 KB/s, 89 seconds passed\n",
      "... 12%, 12288 KB, 123 KB/s, 99 seconds passed\n",
      "... 13%, 13312 KB, 122 KB/s, 109 seconds passed\n",
      "... 15%, 14336 KB, 121 KB/s, 118 seconds passed\n",
      "... 16%, 15360 KB, 122 KB/s, 125 seconds passed\n",
      "... 17%, 16384 KB, 123 KB/s, 132 seconds passed\n",
      "... 18%, 17408 KB, 125 KB/s, 138 seconds passed\n",
      "... 19%, 18432 KB, 125 KB/s, 147 seconds passed\n",
      "... 20%, 19456 KB, 128 KB/s, 151 seconds passed\n",
      "... 21%, 20480 KB, 132 KB/s, 154 seconds passed\n",
      "... 22%, 21504 KB, 128 KB/s, 167 seconds passed\n",
      "... 23%, 22528 KB, 126 KB/s, 178 seconds passed\n",
      "... 24%, 23552 KB, 126 KB/s, 185 seconds passed\n",
      "... 25%, 24576 KB, 127 KB/s, 192 seconds passed\n",
      "... 26%, 25600 KB, 129 KB/s, 198 seconds passed\n",
      "... 27%, 26624 KB, 131 KB/s, 202 seconds passed\n",
      "... 28%, 27648 KB, 129 KB/s, 213 seconds passed\n",
      "... 30%, 28672 KB, 128 KB/s, 223 seconds passed\n",
      "... 31%, 29696 KB, 127 KB/s, 233 seconds passed\n",
      "... 32%, 30720 KB, 128 KB/s, 238 seconds passed\n",
      "... 33%, 31744 KB, 128 KB/s, 246 seconds passed\n",
      "... 34%, 32768 KB, 128 KB/s, 254 seconds passed\n",
      "... 35%, 33792 KB, 130 KB/s, 259 seconds passed\n",
      "... 36%, 34816 KB, 129 KB/s, 268 seconds passed\n",
      "... 37%, 35840 KB, 130 KB/s, 274 seconds passed\n",
      "... 38%, 36864 KB, 130 KB/s, 281 seconds passed\n",
      "... 39%, 37888 KB, 132 KB/s, 287 seconds passed\n",
      "... 40%, 38912 KB, 131 KB/s, 296 seconds passed\n",
      "... 41%, 39936 KB, 131 KB/s, 304 seconds passed\n",
      "... 42%, 40960 KB, 130 KB/s, 314 seconds passed\n",
      "... 43%, 41984 KB, 128 KB/s, 326 seconds passed\n",
      "... 45%, 43008 KB, 128 KB/s, 335 seconds passed\n",
      "... 46%, 44032 KB, 127 KB/s, 344 seconds passed\n",
      "... 47%, 45056 KB, 127 KB/s, 352 seconds passed\n",
      "... 48%, 46080 KB, 128 KB/s, 358 seconds passed\n",
      "... 49%, 47104 KB, 128 KB/s, 365 seconds passed\n",
      "... 50%, 48128 KB, 130 KB/s, 369 seconds passed\n",
      "... 51%, 49152 KB, 132 KB/s, 371 seconds passed\n",
      "... 52%, 50176 KB, 134 KB/s, 374 seconds passed\n",
      "... 53%, 51200 KB, 135 KB/s, 376 seconds passed\n",
      "... 54%, 52224 KB, 137 KB/s, 378 seconds passed\n",
      "... 55%, 53248 KB, 139 KB/s, 380 seconds passed\n",
      "... 56%, 54272 KB, 141 KB/s, 382 seconds passed\n",
      "... 57%, 55296 KB, 143 KB/s, 385 seconds passed\n",
      "... 58%, 56320 KB, 145 KB/s, 387 seconds passed\n",
      "... 60%, 57344 KB, 147 KB/s, 389 seconds passed\n",
      "... 61%, 58368 KB, 149 KB/s, 391 seconds passed\n",
      "... 62%, 59392 KB, 150 KB/s, 393 seconds passed\n",
      "... 63%, 60416 KB, 152 KB/s, 395 seconds passed\n",
      "... 64%, 61440 KB, 154 KB/s, 397 seconds passed\n",
      "... 65%, 62464 KB, 155 KB/s, 400 seconds passed\n",
      "... 66%, 63488 KB, 157 KB/s, 403 seconds passed\n",
      "... 67%, 64512 KB, 159 KB/s, 405 seconds passed\n",
      "... 68%, 65536 KB, 160 KB/s, 407 seconds passed\n",
      "... 69%, 66560 KB, 162 KB/s, 409 seconds passed\n",
      "... 70%, 67584 KB, 164 KB/s, 411 seconds passed\n",
      "... 71%, 68608 KB, 165 KB/s, 413 seconds passed\n",
      "... 72%, 69632 KB, 167 KB/s, 416 seconds passed\n",
      "... 73%, 70656 KB, 168 KB/s, 418 seconds passed\n",
      "... 75%, 71680 KB, 170 KB/s, 420 seconds passed\n",
      "... 76%, 72704 KB, 171 KB/s, 422 seconds passed\n",
      "... 77%, 73728 KB, 173 KB/s, 424 seconds passed\n",
      "... 78%, 74752 KB, 175 KB/s, 427 seconds passed\n",
      "... 79%, 75776 KB, 176 KB/s, 430 seconds passed\n",
      "... 80%, 76800 KB, 176 KB/s, 435 seconds passed\n",
      "... 81%, 77824 KB, 177 KB/s, 439 seconds passed\n",
      "... 82%, 78848 KB, 177 KB/s, 443 seconds passed\n",
      "... 83%, 79872 KB, 178 KB/s, 447 seconds passed\n",
      "... 84%, 80896 KB, 179 KB/s, 450 seconds passed\n",
      "... 85%, 81920 KB, 181 KB/s, 452 seconds passed\n",
      "... 86%, 82944 KB, 182 KB/s, 454 seconds passed\n",
      "... 87%, 83968 KB, 183 KB/s, 456 seconds passed\n",
      "... 88%, 84992 KB, 185 KB/s, 458 seconds passed\n",
      "... 90%, 86016 KB, 186 KB/s, 461 seconds passed\n",
      "... 91%, 87040 KB, 187 KB/s, 463 seconds passed\n",
      "... 92%, 88064 KB, 189 KB/s, 465 seconds passed\n",
      "... 93%, 89088 KB, 190 KB/s, 467 seconds passed\n",
      "... 94%, 90112 KB, 191 KB/s, 469 seconds passed\n",
      "... 95%, 91136 KB, 193 KB/s, 471 seconds passed\n",
      "... 96%, 92160 KB, 193 KB/s, 475 seconds passed\n",
      "... 97%, 93184 KB, 194 KB/s, 478 seconds passed\n",
      "... 98%, 94208 KB, 195 KB/s, 480 seconds passed\n",
      "... 99%, 95232 KB, 197 KB/s, 483 seconds passed\n",
      "... 100%, 95497 KB, 197 KB/s, 483 seconds passed\n",
      "\n",
      "========== Unpacking /home/josejacomeb/Documents/Workshop-ESPEL-MCT-2021/Sección 3/public/ssd300/ssd300.tar.gz\n",
      "========== Replacing text in /home/josejacomeb/Documents/Workshop-ESPEL-MCT-2021/Sección 3/public/ssd300/models/VGGNet/VOC0712Plus/SSD_300x300_ft/deploy.prototxt\n",
      "\n"
     ]
    }
   ],
   "source": [
    "%%bash  \n",
    "dir_md=/opt/intel/openvino_2021/deployment_tools/tools/model_downloader/downloader.py\n",
    "nombre_modelo=\"ssd300\"\n",
    "python $dir_md --name $nombre_modelo"
   ]
  },
  {
   "cell_type": "markdown",
   "metadata": {},
   "source": [
    "En este caso, no es necesaria la descompresión pues el mismo programa descomprime este modelo en la ruta `public\\ssd300\\models\\VGGNet\\VOC0712Plus\\SSD_300x300_ft`, a continuación solo basta convertir el modelo a la Representación Intermedia."
   ]
  },
  {
   "cell_type": "markdown",
   "metadata": {},
   "source": [
    "## Conversión de un Modelo Caffe hacia la Representación Intermedia\n",
    "La carpeta descomprimida comprende de varios archivos, entre los más importantes:\n",
    "- deploy.prototxt \n",
    "- VGG_VOC0712Plus_SSD_300x300_ft_iter_160000.caffemodel\n",
    "- solver.prototxt\n",
    "- test.prototxt y train.prototxt\n",
    "\n",
    "En este específico ejemplo de Caffe, el archivo *deploy.txt* contiene información sobre la arquitectura final del modelo SSD, en cambio el archivo *VGG_VOC0712Plus_SSD_300x300_ft_iter_160000.caffemodel* comprende una descripción binaria de los pesos del modelo, el archivo *solver.prototxt* contiene información sobre los parámetros de entrenamiento que se usaron con esa red y los archivos *test.prototxt* y *train.protoxt* son archivos que contienen la arquitectura y se usaron para el entrenamiento y validación.\n",
    "\n",
    "El comando mínimo para la conversión de un modelo de Caffe es el siguiente[2]: \n",
    "```bash\n",
    "python3 mo.py --input_model <INPUT_MODEL>.caffemodel --output_dir <OUTPUT_MODEL_DIR>\n",
    "```\n",
    "\n",
    "El argumento *INPUT_MODEL* se refiere a la ubicación del archivo de los pesos del modelo, en formato caffemodel. La variable *OUTPUT_MODEL_DIR* es un directorio donde deseemos guardar nuestro modelo convertido\n",
    "\n",
    "Debido a que este modelo es de Detección de Objetos, es necesario además añadir la descripción de la arquitectura[2], este archivo es el ya mencionado *deploy.protxt* que se ejecuta con el argumento *--input_proto* en total el comando total a utilizar es el siguiente: \n",
    "```bash\n",
    "python3 mo.py --input_model <SAVED_MODEL_DIR> --input_proto <PIPELINE_FILE> --output_dir <OUTPUT_DIR> \n",
    "```\n",
    "\n",
    "La conversión se puede realizar **ejecutando** el siguiente script en este Jupyter Notebook."
   ]
  },
  {
   "cell_type": "code",
   "execution_count": 12,
   "metadata": {},
   "outputs": [
    {
     "name": "stdout",
     "output_type": "stream",
     "text": [
      "Model Optimizer arguments:\n",
      "Common parameters:\n",
      "\t- Path to the Input Model: \tC:\\Users\\josej\\Documents\\Workshop-ESPEL-MCT-2021\\Sección 3\\public/ssd300/models/VGGNet/VOC0712Plus/SSD_300x300_ft\\VGG_VOC0712Plus_SSD_300x300_ft_iter_160000.caffemodel\n",
      "\t- Path for generated IR: \tC:\\Users\\josej\\Documents\\Workshop-ESPEL-MCT-2021\\Sección 3\\ssd300_OpenVINO\n",
      "\t- IR output name: \tVGG_VOC0712Plus_SSD_300x300_ft_iter_160000\n",
      "\t- Log level: \tERROR\n",
      "\t- Batch: \tNot specified, inherited from the model\n",
      "\t- Input layers: \tNot specified, inherited from the model\n",
      "\t- Output layers: \tNot specified, inherited from the model\n",
      "\t- Input shapes: \tNot specified, inherited from the model\n",
      "\t- Mean values: \tNot specified\n",
      "\t- Scale values: \tNot specified\n",
      "\t- Scale factor: \tNot specified\n",
      "\t- Precision of IR: \tFP32\n",
      "\t- Enable fusing: \tTrue\n",
      "\t- Enable grouped convolutions fusing: \tTrue\n",
      "\t- Move mean values to preprocess section: \tNone\n",
      "\t- Reverse input channels: \tFalse\n",
      "Caffe specific parameters:\n",
      "\t- Path to Python Caffe* parser generated from caffe.proto: \tC:\\Program Files (x86)\\Intel\\openvino_2021\\deployment_tools\\model_optimizer\\mo\\utils\\..\\front\\caffe\\proto\n",
      "\t- Enable resnet optimization: \tTrue\n",
      "\t- Path to the Input prototxt: \tC:\\Users\\josej\\Documents\\Workshop-ESPEL-MCT-2021\\Sección 3\\public/ssd300/models/VGGNet/VOC0712Plus/SSD_300x300_ft\\deploy.prototxt\n",
      "\t- Path to CustomLayersMapping.xml: \tC:\\Program Files (x86)\\Intel\\openvino_2021\\deployment_tools\\model_optimizer\\mo\\utils\\..\\..\\extensions\\front\\caffe\\CustomLayersMapping.xml\n",
      "\t- Path to a mean file: \tNot specified\n",
      "\t- Offsets for a mean file: \tNot specified\n",
      "[ WARNING ] Failed to import Inference Engine Python API in: C:\\Program Files (x86)\\Intel\\openvino_2021.4.582\\python\\python3.8\n",
      "[ WARNING ] DLL load failed while importing ie_api: The specified module could not be found.\n",
      "[ WARNING ] Could not find the Inference Engine Python API. At this moment, the Inference Engine dependency is not required, but will be required in future releases.\n",
      "[ WARNING ] Consider building the Inference Engine Python API from sources or try to install OpenVINO (TM) Toolkit using \"install_prerequisites.sh\"\n",
      "Model Optimizer version: \t2021.4.0-3839-cd81789d294-releases/2021/4\n",
      "[ SUCCESS ] Generated IR version 10 model.\n",
      "[ SUCCESS ] XML file: C:\\Users\\josej\\Documents\\Workshop-ESPEL-MCT-2021\\Sección 3\\ssd300_OpenVINO\\VGG_VOC0712Plus_SSD_300x300_ft_iter_160000.xml\n",
      "[ SUCCESS ] BIN file: C:\\Users\\josej\\Documents\\Workshop-ESPEL-MCT-2021\\Sección 3\\ssd300_OpenVINO\\VGG_VOC0712Plus_SSD_300x300_ft_iter_160000.bin\n",
      "[ SUCCESS ] Total execution time: 14.76 seconds. \n",
      "Archivo Guardado en: ssd300_OpenVINO\n"
     ]
    },
    {
     "name": "stderr",
     "output_type": "stream",
     "text": [
      "[ WARNING ]  Using fallback to produce IR.\n"
     ]
    }
   ],
   "source": [
    "import os, sys\n",
    "nombre_mo = \"mo.py\"\n",
    "ruta_modelo = \"public/ssd300/models/VGGNet/VOC0712Plus/SSD_300x300_ft\"\n",
    "carpeta_salida_archivos = \"ssd300_OpenVINO\" #Cambiar esta ruta si se desea\n",
    "nombre_archivo_pesos=\"VGG_VOC0712Plus_SSD_300x300_ft_iter_160000.caffemodel\"\n",
    "nombre_archivo_proto = \"deploy.prototxt\"\n",
    "ruta_modelo_entrada = os.path.join(ruta_modelo, nombre_archivo_pesos)\n",
    "ruta_archivo_proto = os.path.join(ruta_modelo, nombre_archivo_proto)\n",
    "if sys.platform == \"win32\":\n",
    "    ruta_mo = os.path.normpath(\"C:/Program Files (x86)/Intel/openvino_2021/deployment_tools/model_optimizer\")\n",
    "    ruta_model_optimizer = os.path.join(ruta_mo, nombre_mo) #Union de directorios \n",
    "    ruta_model_optimizer = '\"{}\"'.format(ruta_model_optimizer) #Conversion de Path a formato Windows\n",
    "    comando_total = ruta_model_optimizer + \" --input_model \" + ruta_modelo_entrada \\\n",
    "    + \" --input_proto \" + ruta_archivo_proto  + \" --output_dir \" + carpeta_salida_archivos \n",
    "    !python {comando_total}\n",
    "    print(\"Archivo Convertido Guardado en: {}\".format(carpeta_salida_archivos))\n",
    "elif sys.platform == \"linux\":\n",
    "    ruta_mo = \"/opt/intel/openvino_2021/deployment_tools/model_optimizer/\"\n",
    "    ruta_model_optimizer = os.path.join(ruta_mo, nombre_mo) #Union de directorios \n",
    "    comando_total = ruta_model_optimizer + \" --input_model \" + ruta_modelo_entrada \\\n",
    "    + \" --input_proto \" + ruta_archivo_proto  + \" --output_dir \" + carpeta_salida_archivos \n",
    "    !python {comando_total}\n",
    "    print(\"Archivo Convertido Guardado en: {}\".format(carpeta_salida_archivos))\n",
    "else:\n",
    "    print(\"SO no soportado\")"
   ]
  },
  {
   "cell_type": "markdown",
   "metadata": {
    "scrolled": true
   },
   "source": [
    "Dependiendo de la velocidad de ejecución del computador, se demorará en promedio *un minutos* en realizar la conversión.\n",
    "\n",
    "Si la conversión ha sido exitosa, se mostrará un mensaje parecido al siguiente que indica la ruta de los archivos convertidos\n",
    "\n",
    "```bash\n",
    "[ SUCCESS ] Generated IR version 10 model.\n",
    "[ SUCCESS ] XML file: C:\\Users\\josej\\Documents\\Workshop-ESPEL-MCT-2021\\Sección 3\\ssd300_OpenVINO\\VGG_VOC0712Plus_SSD_300x300_ft_iter_160000.xml\n",
    "[ SUCCESS ] BIN file: C:\\Users\\josej\\Documents\\Workshop-ESPEL-MCT-2021\\Sección 3\\ssd300_OpenVINO\\VGG_VOC0712Plus_SSD_300x300_ft_iter_160000.bin\n",
    "[ SUCCESS ] Total execution time: 14.76 seconds. \n",
    "Archivo Guardado en: ssd300_OpenVINO\n",
    "```"
   ]
  },
  {
   "cell_type": "markdown",
   "metadata": {},
   "source": [
    "## Referencias\n",
    "- [1] Intel. (2021, Agosto 31). ssd300. Intel. [https://docs.openvinotoolkit.org/latest/omz_models_model_ssd300.html](https://docs.openvinotoolkit.org/latest/omz_models_model_ssd300.html)\n",
    "- [1] Intel. (2021, Agosto 31). Converting a Caffe* Model . Intel. [https://docs.openvinotoolkit.org/latest/openvino_docs_MO_DG_prepare_model_convert_model_Convert_Model_From_Caffe.html](https://docs.openvinotoolkit.org/latest/openvino_docs_MO_DG_prepare_model_convert_model_Convert_Model_From_Caffe.html)\n"
   ]
  }
 ],
 "metadata": {
  "kernelspec": {
   "display_name": "Python 3",
   "language": "python",
   "name": "python3"
  },
  "language_info": {
   "codemirror_mode": {
    "name": "ipython",
    "version": 3
   },
   "file_extension": ".py",
   "mimetype": "text/x-python",
   "name": "python",
   "nbconvert_exporter": "python",
   "pygments_lexer": "ipython3",
   "version": "3.7.6"
  }
 },
 "nbformat": 4,
 "nbformat_minor": 4
}

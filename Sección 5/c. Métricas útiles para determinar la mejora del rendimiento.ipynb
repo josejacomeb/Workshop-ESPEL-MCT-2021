{
 "cells": [
  {
   "cell_type": "markdown",
   "metadata": {},
   "source": [
    "# Métricas útiles para determinar la mejora del rendimiento\n",
    "Algunas métricas útiles para medir los documentar las mejoras de la aplicación en término de rendimiento se pueden considerar las siguientes:\n",
    "\n",
    "## Tiempo\n",
    "\n",
    "El tiempo de ejecución y de carga del modelo es un parámetro importante, si el tiempo de carga contiene un proceso crítico como por ejemplo en un vehículo autónomo, donde su modelo cargue minutos después de que el auto arrancó, puede suceder situaciones peligrosas para los ocupantes, así mismo la reducción del tiempo de inferencia del modelo presenta tiempos más rápidos de reacción(menor latencia) como por ejemplo en Monitoreo de Centrales Nucleares.\n",
    "\n",
    "## Tamaño del modelo\n",
    "\n",
    "No siempre un modelo más pequeño, significa un mejor modelo, debido a una poca o mucha reducción de la precisión de clasificación/detección/segmentación de objetos, pero en dispositivos de Frontera, que tienen un almacenamiento muy limitado y/o las actualizaciones OTA(Over the Air) que se lancen a dicho dispositivo, entonces para esos escenarios es crítico reducir el tiempo de inferencia. \n",
    "\n",
    "## FLOPS(Operaciones de coma flotante por segundo)\n",
    "\n",
    "Es una forma indirecta de medida del tiempo de inferencia del modelo, calculando el numero total de computaciones que el modelo debe realizar. Mucho de los modelos, como los que se presentaron en este workshop entre sus métricas muestran las operaciones de coma flotante(floating point operations) de su modelo diseñado y sirven también para medir la complexidad del modelo[1]. \n",
    "\n",
    "## MACs (Multiply-accumulate operation)\n",
    "\n",
    "Los cálculos en redes neuronales típicamente están basados en multiplicaciones y adiciones. Muchas capas como las de una `Dense Layer` usualmente se multiplica la activación de la neurona con el peso por esa conexión de la neurona y luego se añade a un similar producto. \n",
    "\n",
    " ![MACs](https://miro.medium.com/max/945/1*guIlDajMnLgAk6DJICI2Cw.png)\n",
    " <div align=\"center\"><b>Fig 1.</b> Cálculos en una Dense Layer </div>\n",
    "\n",
    "Generalmente una `MAC` involucra 2 operaciones de coma flotante(`FLOPs`), y de hecho hay varias instrucciones de procesadores que pueden procesar varias MACs debido a que procesan una MAC como una sola operación, por lo que son más eficientes para este tipo de modelos.\n",
    "\n",
    " ## Otras métricas de  referencia\n",
    " \n",
    " Dependiendo del proyecto, se pueden incluir métricas como la *Potencia que requiere el sistema* en proyectos donde la energía es vital, como dispositivos que funcionen a batería, otra métrica esencial es el *costo* debido a que estos tipos de optimizaciones pueden reducir los requerimientos de hardware para el proyecto, para mencionar una más el *tamaño del prototipo* también es fácil de asociarlo debido a que con menos potencia de cálculo que se necesite, menor será el tamaño que requiera el dispositivo y más pequeña su sistema de refrigeración.\n",
    "\n",
    "## Referencias\n",
    "- [1] https://www.math.purdue.edu/~nwinovic/deep_learning.html mac\n",
    "- [2] https://en.wikipedia.org/wiki/Multiply%E2%80%93accumulate_operation"
   ]
  }
 ],
 "metadata": {
  "kernelspec": {
   "display_name": "Python 3",
   "language": "python",
   "name": "python3"
  },
  "language_info": {
   "codemirror_mode": {
    "name": "ipython",
    "version": 3
   },
   "file_extension": ".py",
   "mimetype": "text/x-python",
   "name": "python",
   "nbconvert_exporter": "python",
   "pygments_lexer": "ipython3",
   "version": "3.7.6"
  }
 },
 "nbformat": 4,
 "nbformat_minor": 4
}

{
 "cells": [
  {
   "cell_type": "markdown",
   "metadata": {},
   "source": [
    "# Detección de cuellos de Botella con la Aplicación Intel® VTune™ Profiler \n",
    "\n",
    "El Perfilado de Aplicaciones(Profiling en inglés) es una técnica muy útil a la hora de reconocer falencias y tiempos perdido en nuestro código, además en ciertos programas, se muestra el consumo de la aplicación por núcleo, RAM, etc. Hay muchos tipos de Profilers en el mercado, tanto de código abierto y cerrado, además hay algunos que no contienen interfaz, como otros que tienen un set de herramientas gráficas para el uso más intuitivo. \n",
    "\n",
    "Los asistentes que deseen probar el software Intel® VTune™ Profiler, lo pueden encontrar en la página de Intel (previo registro) o a través de estos links proporcionados con los instaladores de OpenVINO.\n",
    "- [Instaladores Windows](https://drive.google.com/drive/folders/1dLVGbT-052sVPL2zuzXi2af3_egSdla3?usp=sharing)\n",
    "- [Instaladores Linux](https://drive.google.com/drive/folders/1azB4vdKCS05GnVEhwk_E_Hed5FBh9_Wf?usp=sharing)\n",
    "\n",
    "## Uso del programa\n",
    "\n",
    "Una vez abierto el programa, se presentará una pantalla de bienvenida donde se puede iniciar un nuevo proyecto. \n",
    "![OpenVINO Demo](Imágenes/vtune_inicio.png)\n",
    "<div align=\"center\"><b>Fig 1.</b> Pantalla de Inicio de VTune </div>\n",
    "\n",
    "### Creación de un nuevo proyecto\n",
    "\n",
    "Una vez presionado el Botón de Crear un Nuevo proyecto, el programa mostrará una ventana similar a la actual, donde se debe especificar la ruta a la aplicación(VTune Profiler soporta tanto programas compilados como interpretados como Python) y los argumentos del programa, si hubieran, además es útil proveer al programa del Directorio del Trabajo en *Working Directory* para asegurarse de que el análisis inicie en la misma ruta donde esta el código. \n",
    "\n",
    "![OpenVINO Demo](Imágenes/vtune_proyecto.png)\n",
    "<div align=\"center\"><b>Fig 2.</b> Pantalla de configuración de un nuevo proyecto en VTune</div>\n",
    "\n",
    "En el caso de un programa interpretado se debe especificar la aplicación intérprete, por ejemplo en Windows: \n",
    "```cmd\n",
    "C:\\Users\\josej\\AppData\\Local\\Programs\\Python\\Python38\\python.exe\n",
    "```\n",
    "\n",
    "Un ejemplo de configuración para ejecutar un análisis de una aplicación con OpenVINO en Python la siguiente:\n",
    "\n",
    "![OpenVINO Demo](Imágenes/vtune_configuracion.png)\n",
    "<div align=\"center\"><b>Fig 3.</b> Ejemplo de configuración de Parámetros de Análisis VTune </div>\n",
    "\n",
    "### Ejecución del Análisis\n",
    "\n",
    "Una vez definidos los parámetros del análisis, solo hace falta ejecutar el mismo, en la parte inferior derecha del proyecto, se puede ver los íconos para iniciar el análisis, como en la siguiente figura. \n",
    "\n",
    "![OpenVINO Demo](Imágenes/vtune_inicio_analisis.png)\n",
    "<div align=\"center\"><b>Fig 3.</b> Íconos de la ejecución de Análisis VTune </div>\n",
    "\n",
    "### Análisis de los resultados\n",
    "\n",
    "Cada análisis que se ejecute, será guardado en un archivo independiente, este en cada análisis, se desglosa de forma bien descriptiva, el tiempo total del programa, los puntos calientes donde se puede optimizar, y las tareas que  consumen más tiempo de procesamiento, un ejemplo de esto, es la siguiente imagen.\n",
    "\n",
    "![OpenVINO Demo](Imágenes/vtune_analisis.png)\n",
    "<div align=\"center\"><b>Fig 4.</b> Resultados de una optimización por software, antes y después </div>\n",
    "\n",
    "Como se puede observar, la función que más hace cuello de botella en esta aplicación es `cv2.waitKey` de OpenCV, esta aplicación procesa video, por lo que se decidió reducir al mínimo el tiempo de espera, aparte de usar multithreading para que en un hilo aparte el programa se encargue de recibir la imagen en forma matriz de la cámara, para más información de como implementar Multithreading en el objecto `cap.read` de OpenCV, referirse a este tutorial [Multithreading with OpenCV-Python to improve video processing performance](https://nrsyed.com/2018/07/05/multithreading-with-opencv-python-to-improve-video-processing-performance/)\n"
   ]
  }
 ],
 "metadata": {
  "kernelspec": {
   "display_name": "Python 3",
   "language": "python",
   "name": "python3"
  },
  "language_info": {
   "codemirror_mode": {
    "name": "ipython",
    "version": 3
   },
   "file_extension": ".py",
   "mimetype": "text/x-python",
   "name": "python",
   "nbconvert_exporter": "python",
   "pygments_lexer": "ipython3",
   "version": "3.7.6"
  }
 },
 "nbformat": 4,
 "nbformat_minor": 4
}

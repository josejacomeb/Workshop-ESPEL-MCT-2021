{
 "cells": [
  {
   "cell_type": "markdown",
   "metadata": {},
   "source": [
    "# Importancia de los dispositivos de Frontera"
   ]
  },
  {
   "cell_type": "markdown",
   "metadata": {},
   "source": [
    "Según Gartner, *\"el 91% del total de los datos son creados y procesados y procesados en centros de datos centralizados. Para el 2020, alrededor del 75% de los datos necesitarán análisis y acción cerca del proceso\"* [1]\n",
    "\n",
    "![Imágenes Arquitectura](Imágenes/arquitectura_ed.png)\n",
    "\n",
    "<div align=\"center\"><b>Fig 1.</b> Representación de una red de Dispositivos de Frontera[1]</div>\n",
    "\n",
    "La importancia de los Dispositivo de frontera se puede verificar en varios ámbitos como el económico, logístico y comunicaciones, como se puede ver las siguientes subsecciones[3].\n",
    "\n",
    "## Importancia Económica\n",
    "- Permite la transformación e inclusión en la nueva revolución de dispositivos de servicio y manufactura\n",
    "- Promueve un sistema de negocios ágil, que abarata costos, y muy responsivo\n",
    "- Fácil escalamiento de los dispositivos con la expansión del negocio sin tener que expandir más centros de datos centralizados.\n",
    "- Bajo consumo energético\n",
    "- Comercialización más rápida de estos productos.\n",
    "\n",
    "## Importancia Logística\n",
    "- Poder recolectar y analizar información cerca de donde se produce el proceso\n",
    "- Muy baja latencia al tener poca distancia entre el dispositivo y el proceso\n",
    "- Permite obtener sistemas flexibles, escalables, seguros y con mayor automatización\n",
    "\n",
    "## Importancia en la seguridad\n",
    "- Aumento de la privacidad en ciertas áreas, pues no todos los datos son compartidos a un servidor principal\n",
    "- Respuesta inmediata en sectores críticos como en los de la educación\n",
    "- Con la adecuada seguridad informática, hay dificultad de ser susceptibles a ataques DDos o hackeo.\n",
    "\n",
    "## Importancia en las comunicaciones\n",
    "- Evitar cuellos de botellas en las comunicaciones al evitar enviar datos crudos en favor de los datos procesados\n",
    "- Crear o retirar nodos de computación de manera sencilla\n",
    "- Implementación de protocolos dedicados de seguridad informática para cada dispositivo individual"
   ]
  },
  {
   "cell_type": "markdown",
   "metadata": {},
   "source": [
    "## Referencias\n",
    "- [1] Van der Meulen, R. (2021, Agosto 31). What Edge Computing Means for Infrastructure and Operations Leaders.  Smarter with Gartner. https://www.gartner.com/smarterwithgartner/what-edge-computing-means-for-infrastructure-and-operations-leaders/\n",
    "- [2] Hungud, V., & Arunachalam, S. K. (2020). Digital twin: Empowering edge devices to be intelligent. In Advances in Computers (Vol. 117, No. 1, pp. 107-127). Elsevier.\n",
    "- [3] Gyarmathy, K. (2021, Agosto 31). The Benefits, Potential, and Future of Edge Computing. vXChnge r.  https://www.vxchnge.com/blog/the-5-best-benefits-of-edge-computing "
   ]
  }
 ],
 "metadata": {
  "kernelspec": {
   "display_name": "Python 3",
   "language": "python",
   "name": "python3"
  },
  "language_info": {
   "codemirror_mode": {
    "name": "ipython",
    "version": 3
   },
   "file_extension": ".py",
   "mimetype": "text/x-python",
   "name": "python",
   "nbconvert_exporter": "python",
   "pygments_lexer": "ipython3",
   "version": "3.7.6"
  }
 },
 "nbformat": 4,
 "nbformat_minor": 4
}

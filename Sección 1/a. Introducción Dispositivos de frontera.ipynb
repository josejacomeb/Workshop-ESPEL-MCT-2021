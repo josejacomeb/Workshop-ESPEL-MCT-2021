{
 "cells": [
  {
   "cell_type": "markdown",
   "metadata": {},
   "source": [
    "# Introducción a los dispositivos de Frontera"
   ]
  },
  {
   "cell_type": "markdown",
   "metadata": {},
   "source": [
    "En la actualidad, debido al vertiginoso avance tecnológico, los sistemas computacionales han sufrido una brillante evolución, desde potentes supercomputadores capaces de hacer millones de cálculos por segundo, hasta microcomputadores que pueden realizar cálculos básicos a nivel micro. "
   ]
  },
  {
   "cell_type": "markdown",
   "metadata": {},
   "source": [
    " ![Computador Ultrapequeño](Imágenes/SmallestComputer.jpg)\n",
    " <div align=\"center\"><b>Fig 1.</b> Computador del tamaño de un arroz desarrollado por la Universidad de Michigan [1]</div>"
   ]
  },
  {
   "cell_type": "markdown",
   "metadata": {},
   "source": [
    "La historia de la Mecatrónica y Sistemas de Control no ha sido ajena a esta evolución de potencia y miniaturización de los componentes, el uso de computadores siempre ha estado ligado a estas dos ciencias y las nuevas innovaciones son rápidamente asimiladas por los fabricantes, donde ha aparecido una nueva gama de dispositivos distribuidos que pueden completar,  desde tareas sencillas hasta procedimientos de Inteligencia Artificial."
   ]
  },
  {
   "cell_type": "markdown",
   "metadata": {},
   "source": [
    "# ¿Qué son los dispositivos de frontera?"
   ]
  },
  {
   "cell_type": "markdown",
   "metadata": {},
   "source": [
    "Según *Huang y Yu* [2] la motivación de la computación para dispositivos de frontera, puede ser resumido en dos motivaciones: \n",
    "Primero, preserva la información de privacidad, el dispositivo puede pre-procesar información antes de ser enviada a la nube.\n",
    "Segunda, por la latencia, un dispositivo de frontera puede realizar tareas como de Machine Learning, liberando la red y haciendo la comunicación más robusta.\n",
    "\n",
    "Para el criterio de *Kapur y otros* [3], la computación par dispositivos de frontera es un sistema que funciona a través de una red distribuida de nodos, opuesto a la computación de nube, que centraliza las operaciones. Un dispositivo de frontera, es una unidad funcional que puede ser representado en un nodo y que a su vez conforma una red del Internet de las Cosas(IoT). El objetivo de esta implementación es proveer análisis de datos de manera más rápida y eficiente. Esta aplicación depende de los dispositivos locales, los centros de datos localizados y centros de datos regionales. Reduciendo la latencia y la cantidad de datos a enviar, que con una correcta aplicación de seguridad, hace la operación distribuida más segura.\n",
    "\n",
    "Para *Abirami y Chitra* [4] son dispositivos limitados en términos de capacidad computacional y de consumo de energía(lo que los hace excelentes para uso de Batería), usados en procesos donde el proceso es sensitivo a la latencia, con retos para construir dispositivos de frontera que puedan inferir en Deep Learning, sorteando la limitida capacidad de éstos. Además de planear un mantenimiento para esta red y respaldo de los datos. \n",
    "\n",
    "Según *Hungud y Arunachalam* [5] los dispositivos de frontera han traído transformaciones potenciales al diseño de infraestructura y operaciones, con dramáticas transformaciones en sectores claves de la economía, usualmente estos dispositivos contienen conectividad e inteligencia localizada, capaces de ser programados independientemente y de ser manejados remotamente, devolviendo información detallada sobre el sistema en cuestión.\n"
   ]
  },
  {
   "cell_type": "markdown",
   "metadata": {},
   "source": [
    "## **Referencias**\n",
    "- [1] Yan, L. (2021, Agosto 31). The Smallest Computer in the World Fits On a Grain of Rice. Popular Mechanics.  https://www.popularmechanics.com/technology/a22007431/smallest-computer-world-smaller-than-grain-rice/\n",
    "- [2] Huang, H., & Yu, H. (2019). Compact and Fast Machine Learning Accelerator for IoT Devices. Springer.\n",
    "- [3] Kapur, P. K., Singh, G., Klochkov, Y. S., & Kumar, U. (2020). Decision Analytics Applications in Industry. Springer.\n",
    "- [4] Abirami, S., & Chitra, P. (2020). Energy-efficient edge based real-time healthcare support system. In Advances in Computers (Vol. 117, No. 1, pp. 339-368). Elsevier.\n",
    "- [5] Hungud, V., & Arunachalam, S. K. (2020). Digital twin: Empowering edge devices to be intelligent. In Advances in Computers (Vol. 117, No. 1, pp. 107-127). Elsevier."
   ]
  }
 ],
 "metadata": {
  "kernelspec": {
   "display_name": "Python 3",
   "language": "python",
   "name": "python3"
  },
  "language_info": {
   "codemirror_mode": {
    "name": "ipython",
    "version": 3
   },
   "file_extension": ".py",
   "mimetype": "text/x-python",
   "name": "python",
   "nbconvert_exporter": "python",
   "pygments_lexer": "ipython3",
   "version": "3.7.6"
  }
 },
 "nbformat": 4,
 "nbformat_minor": 4
}

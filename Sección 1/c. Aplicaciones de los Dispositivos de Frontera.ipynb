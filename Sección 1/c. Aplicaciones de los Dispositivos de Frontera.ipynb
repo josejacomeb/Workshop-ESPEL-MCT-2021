{
 "cells": [
  {
   "cell_type": "markdown",
   "metadata": {},
   "source": [
    "# Aplicaciones"
   ]
  },
  {
   "cell_type": "markdown",
   "metadata": {},
   "source": [
    "Las aplicaciones de los dispositivos de frontera son muy variadas, pudiendo esta tecnología estar presente en varias ciencias como el transporte, la salud, los edificios inteligentes, entre muchas otras\n",
    "![Ejemplo Aplicación](Imágenes/ejemplo_aplicacion.png) \n",
    "<div align=\"center\"><b>Fig 1.</b> Ejemplo de un medidor inteligente de energía Landis+Gyr [1]</div>\n",
    "\n",
    "## Aplicaciones en el transporte\n",
    "- Procesamiento de entorno y condiciones ambientales en vehículos autónomos de Nivel de Inteligencia 4\n",
    "- Sistemas de alerta de eventos en sistemas de logística como entrega de paquetes(llegar tarde)\n",
    "- Monitoreo de tráfico y respuesta de transporte público bajo demanda\n",
    "- Futuro manejo de flujo de autos (al abrir o cerrar más o menos vías)\n",
    "\n",
    "## Aplicaciones en la salud\n",
    "En esta aplicación, el tiempo de reacción es precisamente crítico\n",
    "- Dispositivos para el monitoreo pacientes crónicos\n",
    "- Robots de cirugía(Análisis de datos en tiempo real)\n",
    "- Dispositivos para recolección de datos para diagnóstico o tratamiento\n",
    "\n",
    "## Aplicaciones en Edificios Inteligentes\n",
    "- Sistemas de seguridad de edificios\n",
    "- Altavoces inteligentes\n",
    "- Recolección de datos de los edificios\n",
    "- Centrales distribuidas de control, sensorización y monitoreo\n",
    "\n",
    "## Aplicaciones en la Manufactura\n",
    "- Mantenimiento preventivo mediante el monitoreo de variables del sistema\n",
    "- Aplicaciones de sistemas ciberfísicos\n",
    "- Monitoreo y control de procesos"
   ]
  },
  {
   "cell_type": "markdown",
   "metadata": {},
   "source": [
    "## Referencias\n",
    "- [1] T&D World (2021, Agosto 31). AI-Powered Analytics in Grid-Edge Smart Meters. T&D World.  https://www.tdworld.com/smart-utility/metering/article/20972573/aipowered-analytics-in-gridedge-smart-meters "
   ]
  }
 ],
 "metadata": {
  "kernelspec": {
   "display_name": "Python 3",
   "language": "python",
   "name": "python3"
  },
  "language_info": {
   "codemirror_mode": {
    "name": "ipython",
    "version": 3
   },
   "file_extension": ".py",
   "mimetype": "text/x-python",
   "name": "python",
   "nbconvert_exporter": "python",
   "pygments_lexer": "ipython3",
   "version": "3.7.6"
  }
 },
 "nbformat": 4,
 "nbformat_minor": 4
}

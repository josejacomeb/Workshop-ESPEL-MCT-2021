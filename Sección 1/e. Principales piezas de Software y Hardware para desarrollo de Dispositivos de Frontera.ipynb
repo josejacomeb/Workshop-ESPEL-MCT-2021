{
 "cells": [
  {
   "cell_type": "markdown",
   "metadata": {},
   "source": [
    "# Principales piezas de Software y Hardware para desarrollo de Dispositivos de Frontera\n",
    "\n",
    "El constante desarrollo de la computación distribuida ha sido posible gracias a las diferentes innnovaciones en el ámbito de software y hardware para estas aplicaciones, el interés comercial que suscita este tipos de dispositivos a puesto al alcance los siguientes tipos de [dispositivos y librerías](https://github.com/crespum/edge-ai)[1]:\n",
    "\n",
    "## Hardware\n",
    "\n",
    "![AI in the Edge](Imágenes/nvidia_jetson.jpg)\n",
    "<div align=\"center\"><b>Fig 1.</b> Kit de Desarrollo NVIDIA Jetson Nano [2]</div>\n",
    "\n",
    "En la actualidad hay muchos fabricantes de hardware presentando sus propias implementaciones, entre las más importantes tenemos:\n",
    "\n",
    "- [NVIDIA Jetson](https://www.nvidia.com/en-us/autonomous-machines/embedded-systems/) Dispositivo que contiene una GPU integrada, con la potencia necesaria para correr aplicaciones de IA no tan demandantes \n",
    "- [Intel Movidius](https://www.intel.com/content/www/us/en/products/details/processors/movidius-vpu.html) Intel ha presentado su gama de productos desde Aceleradores de Visión(VPU) o FPGA dedicados al procesamiento de algoritmos de Machine Learning\n",
    "- [ARM microNPU](https://www.arm.com/products/silicon-ip-cpu/machine-learning/ethos-u55) Incluye un procesador diseñado para proveer aceleración hardware a programas de Inteligencia Artificial\n",
    "- [Ultra96](https://www.96boards.ai/products/ultra96/) Plataforma de desarrollo embebido que contiene un FPGA Xilinx incorporado  \n",
    "- [Espressif ESP32-S3 ](https://www.espressif.com/en/products/socs/esp32-s3) Dispositivo integrado SoC, similar al ESP32 con características como la aceleración de Inteligencia Artificial(IA)\n",
    "\n",
    "## Software\n",
    "\n",
    "![OpenVINO](Imágenes/openvino-square.png)\n",
    "<div align=\"center\"><b>Fig 1.</b> Kit de Herramientas OpenVINO [3]</div>\n",
    "\n",
    "Igualmente, se ha colaborado con esfuerzos para proveer de capacidades de inteligencia a dichos dispositivos, entre los cuales tenemos: \n",
    "- [Tensorflow Lite](https://www.tensorflow.org/lite/) Librería lanzada por Google para dispositivos móviles o embebidos, el cual habilita el uso de inteligencia artificial en esos dispositivos.\n",
    "- [Intel OpenVINO](https://docs.openvinotoolkit.org/latest/index.html) Librería desarrollada por Intel, con compatibilidad en hardware externo variado como GPU, VPU, TPU\n",
    "- [Embedded Learning Library (ELL) ](https://github.com/Microsoft/ELL) Desarrollada por Microsoft, permite desarrollar modelos de inteligencia artificial para dispositivos constreñidos o pequeñas microcomputadoras.\n",
    "- [ARM Compute Library](https://developer.arm.com/technologies/compute-library) Librería diseñada para aprovechar las funciones de ARM en tareas como procesamiento de imágenes, visión por computadora y machine learning.\n",
    "- [Edge Impulse](https://edgeimpulse.com/) Plataforma interactiva para generar modelos que puedan correr en microcontroladores."
   ]
  },
  {
   "cell_type": "markdown",
   "metadata": {},
   "source": [
    "## Referencias \n",
    "- [1] Crespo, J. (2021, Agosto 31). A curated list of hardware, software, frameworks and other resources for Artificial Intelligence at the edge. https://github.com/crespum/edge-ai\n",
    "- [2] SparkFun Electronics (2021, Agosto 31). NVIDIA Jetson Nano Developer Kit. SparkFun Electronics www.sparkfun.com/products/15297\n",
    "- [3] Intel. (2021, Agosto 31). OpenVINO Toolkit Intel https://01.org/openvinotoolkit "
   ]
  }
 ],
 "metadata": {
  "kernelspec": {
   "display_name": "Python 3",
   "language": "python",
   "name": "python3"
  },
  "language_info": {
   "codemirror_mode": {
    "name": "ipython",
    "version": 3
   },
   "file_extension": ".py",
   "mimetype": "text/x-python",
   "name": "python",
   "nbconvert_exporter": "python",
   "pygments_lexer": "ipython3",
   "version": "3.7.6"
  }
 },
 "nbformat": 4,
 "nbformat_minor": 4
}

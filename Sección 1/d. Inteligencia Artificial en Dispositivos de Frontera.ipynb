{
 "cells": [
  {
   "cell_type": "markdown",
   "metadata": {},
   "source": [
    "# Inteligencia Artificial en Dispositivos de Frontera\n",
    "\n",
    "![AI in the Edge](Imágenes/ai_in_the_edge.png)\n",
    "<div align=\"center\"><b>Fig 1.</b> Inteligencia Artificial en Dispositivos de Frontera [1]</div>\n",
    "No han sido pocos los esfuerzos por dotar de inteligencia artificial a los dispositivos de frontera, a pesar de su poca capacidad computacional, númerosos esfuerzos en diseño de hardware, librerías de aprendizaje por máquinas o dispositivos de aceleramiento neuronal han sido clave para la mayor adopción de esta nueva tecnología, entre los ejemplos que se pueden mencionar están[1]:\n",
    "\n",
    "## Detección de Patrones\n",
    "\n",
    "Permite el descubrimiento de patrones y detectar anomalías en datos que provienen de las medidas del dispositivo de frontera, entre los datos comúnmente analizados están la distribución de población, flujo de tráfico, humedad, temperatura, presión.\n",
    "\n",
    "## Toma de decisiones en Tiempo real\n",
    "\n",
    "Especialmente útil en ambientes donde las variables cambian muy rápido o se necesita el incremento de eficiencia de operación, ejemplos de estos tipos de sistemas son la planeación de transporte público, control de tráfico o alertas de tráfico."
   ]
  },
  {
   "cell_type": "markdown",
   "metadata": {},
   "source": [
    "## Referencias\n",
    "- [1] Gill, J. (2021, Agosto 31). Enabling Artificial Intelligence (AI) Solutions on Edge T&D World. Akira.AI. https://www.akira.ai/blog/ai-solutions-on-edge/\n",
    "- [2] Boesch, G.(2021, Agosto 31). Edge Intelligence in 2021 - Deep Learning and Edge Computing. viso.ai  https://viso.ai/edge-ai/edge-intelligence-deep-learning-with-edge-computing/"
   ]
  }
 ],
 "metadata": {
  "kernelspec": {
   "display_name": "Python 3",
   "language": "python",
   "name": "python3"
  },
  "language_info": {
   "codemirror_mode": {
    "name": "ipython",
    "version": 3
   },
   "file_extension": ".py",
   "mimetype": "text/x-python",
   "name": "python",
   "nbconvert_exporter": "python",
   "pygments_lexer": "ipython3",
   "version": "3.8.10"
  }
 },
 "nbformat": 4,
 "nbformat_minor": 4
}
